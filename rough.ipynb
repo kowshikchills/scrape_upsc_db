{
 "cells": [
  {
   "cell_type": "code",
   "execution_count": 1,
   "metadata": {},
   "outputs": [
    {
     "name": "stderr",
     "output_type": "stream",
     "text": [
      "[nltk_data] Downloading package punkt to /home/ubuntu/nltk_data...\n",
      "[nltk_data]   Package punkt is already up-to-date!\n"
     ]
    }
   ],
   "source": [
    "from bs4 import BeautifulSoup\n",
    "import requests\n",
    "import pandas as pd\n",
    "import numpy as np\n",
    "import re\n",
    "import nltk\n",
    "from nltk import sent_tokenize\n",
    "nltk.download('punkt')\n",
    "import warnings\n",
    "import ast\n",
    "warnings.filterwarnings(action='ignore')\n",
    "import json \n",
    "from requests import get\n",
    "import datetime\n",
    "from datetime import date\n",
    "from tqdm import tqdm\n",
    "import pickle\n",
    "import boto3"
   ]
  },
  {
   "cell_type": "code",
   "execution_count": 2,
   "metadata": {},
   "outputs": [
    {
     "name": "stderr",
     "output_type": "stream",
     "text": [
      "[nltk_data] Downloading package punkt to /home/ubuntu/nltk_data...\n",
      "[nltk_data]   Package punkt is already up-to-date!\n"
     ]
    }
   ],
   "source": [
    "from scrape_utils.utils import MongoDB_Train_Data, get_all_deets, create_item\n",
    "#MTD = MongoDB_Train_Data()\n",
    "#MTD.get_entire_article_links_monthly()"
   ]
  },
  {
   "cell_type": "code",
   "execution_count": 4,
   "metadata": {},
   "outputs": [
    {
     "name": "stderr",
     "output_type": "stream",
     "text": [
      "[nltk_data] Downloading package punkt to /home/ubuntu/nltk_data...\n",
      "[nltk_data]   Package punkt is already up-to-date!\n"
     ]
    }
   ],
   "source": []
  },
  {
   "cell_type": "code",
   "execution_count": 5,
   "metadata": {},
   "outputs": [
    {
     "name": "stderr",
     "output_type": "stream",
     "text": [
      "100%|██████████| 1/1 [00:00<00:00,  9.31it/s]\n"
     ]
    }
   ],
   "source": [
    "from bs4 import BeautifulSoup\n",
    "import requests\n",
    "import pandas as pd\n",
    "import numpy as np\n",
    "import re\n",
    "import nltk\n",
    "from nltk import sent_tokenize\n",
    "nltk.download('punkt')\n",
    "import warnings\n",
    "import ast\n",
    "warnings.filterwarnings(action='ignore')\n",
    "import json \n",
    "from requests import get\n",
    "import datetime\n",
    "from datetime import date\n",
    "from tqdm import tqdm\n",
    "import pickle\n",
    "import boto3\n",
    "from scrape_utils.utils import MongoDB_Train_Data, get_all_deets, create_item\n",
    "\n",
    "__TableName__ = 'upsc_training_data'\n",
    "client  = boto3.client('dynamodb',region_name = 'ap-south-1')\n",
    "DB  = boto3.resource('dynamodb',region_name = 'ap-south-1')\n",
    "table = DB.Table(__TableName__)\n",
    "with open('data/article_links.pkl', 'rb') as handle:\n",
    "    article_links = pickle.load(handle)\n",
    "\n",
    "failed_articles = []\n",
    "for i in tqdm(range(len(article_links))):\n",
    "    try: \n",
    "        artcl_link, date, heading, art_text, art_types, key_points_isin, summary, tags = get_all_deets(article_links[i])\n",
    "        item = create_item(i,artcl_link, date, heading, art_text, art_types, key_points_isin, summary, tags)\n",
    "        #response = table.put_item(Item  = item)\n",
    "    except:\n",
    "        failed_articles.append(article_links[i])\n",
    "\n",
    "with open('data/failed_articles.pkl', 'wb') as f:\n",
    "    pickle.dump(failed_articles, f)"
   ]
  },
  {
   "cell_type": "code",
   "execution_count": 13,
   "metadata": {},
   "outputs": [],
   "source": [
    "item = {'TrainId':1,'article_link':artcl_link}\n"
   ]
  },
  {
   "cell_type": "code",
   "execution_count": 5,
   "metadata": {},
   "outputs": [
    {
     "data": {
      "text/plain": [
       "{'ResponseMetadata': {'RequestId': 'E929VVUCPGR6VROJV5C4ITQ61RVV4KQNSO5AEMVJF66Q9ASUAAJG',\n",
       "  'HTTPStatusCode': 200,\n",
       "  'HTTPHeaders': {'server': 'Server',\n",
       "   'date': 'Thu, 17 Nov 2022 10:37:45 GMT',\n",
       "   'content-type': 'application/x-amz-json-1.0',\n",
       "   'content-length': '2',\n",
       "   'connection': 'keep-alive',\n",
       "   'x-amzn-requestid': 'E929VVUCPGR6VROJV5C4ITQ61RVV4KQNSO5AEMVJF66Q9ASUAAJG',\n",
       "   'x-amz-crc32': '2745614147'},\n",
       "  'RetryAttempts': 0}}"
      ]
     },
     "execution_count": 5,
     "metadata": {},
     "output_type": "execute_result"
    }
   ],
   "source": [
    "response = table.get_item(\n",
    "            Key={\n",
    "                'TrainId':1\n",
    "            }\n",
    "        )\n",
    "\n",
    "response"
   ]
  },
  {
   "cell_type": "code",
   "execution_count": 16,
   "metadata": {},
   "outputs": [],
   "source": [
    "response = table.delete_item(\n",
    "        Key={\n",
    "            'TrainId': 1\n",
    "        }\n",
    "    )"
   ]
  },
  {
   "cell_type": "code",
   "execution_count": null,
   "metadata": {},
   "outputs": [],
   "source": []
  }
 ],
 "metadata": {
  "kernelspec": {
   "display_name": "Python 3.10.6 ('scrapeenv': venv)",
   "language": "python",
   "name": "python3"
  },
  "language_info": {
   "codemirror_mode": {
    "name": "ipython",
    "version": 3
   },
   "file_extension": ".py",
   "mimetype": "text/x-python",
   "name": "python",
   "nbconvert_exporter": "python",
   "pygments_lexer": "ipython3",
   "version": "3.10.6"
  },
  "orig_nbformat": 4,
  "vscode": {
   "interpreter": {
    "hash": "050b2f7fdc8ceafbbec2485c71bd423c036445cf9e9b53c6874cc158d5607b0d"
   }
  }
 },
 "nbformat": 4,
 "nbformat_minor": 2
}
