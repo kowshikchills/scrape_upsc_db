{
 "cells": [
  {
   "cell_type": "code",
   "execution_count": 1,
   "metadata": {},
   "outputs": [
    {
     "name": "stderr",
     "output_type": "stream",
     "text": [
      "[nltk_data] Downloading package punkt to /home/ubuntu/nltk_data...\n",
      "[nltk_data]   Package punkt is already up-to-date!\n"
     ]
    }
   ],
   "source": [
    "from bs4 import BeautifulSoup\n",
    "import requests\n",
    "import pandas as pd\n",
    "import numpy as np\n",
    "import re\n",
    "import nltk\n",
    "from nltk import sent_tokenize\n",
    "nltk.download('punkt')\n",
    "import warnings\n",
    "import ast\n",
    "warnings.filterwarnings(action='ignore')\n",
    "import json \n",
    "from requests import get\n",
    "import datetime\n",
    "from datetime import date\n",
    "from tqdm import tqdm\n",
    "import pickle\n",
    "import boto3"
   ]
  },
  {
   "cell_type": "code",
   "execution_count": 2,
   "metadata": {},
   "outputs": [
    {
     "name": "stderr",
     "output_type": "stream",
     "text": [
      "[nltk_data] Downloading package punkt to /home/ubuntu/nltk_data...\n",
      "[nltk_data]   Package punkt is already up-to-date!\n"
     ]
    }
   ],
   "source": [
    "from scrape_utils.utils import MongoDB_Train_Data, get_all_deets, create_item\n",
    "#MTD = MongoDB_Train_Data()\n",
    "#MTD.get_entire_article_links_monthly()"
   ]
  },
  {
   "cell_type": "code",
   "execution_count": 4,
   "metadata": {},
   "outputs": [
    {
     "name": "stderr",
     "output_type": "stream",
     "text": [
      "[nltk_data] Downloading package punkt to /home/ubuntu/nltk_data...\n",
      "[nltk_data]   Package punkt is already up-to-date!\n"
     ]
    }
   ],
   "source": []
  },
  {
   "cell_type": "code",
   "execution_count": 5,
   "metadata": {},
   "outputs": [
    {
     "name": "stderr",
     "output_type": "stream",
     "text": [
      "100%|██████████| 1/1 [00:00<00:00,  9.31it/s]\n"
     ]
    }
   ],
   "source": [
    "from bs4 import BeautifulSoup\n",
    "import requests\n",
    "import pandas as pd\n",
    "import numpy as np\n",
    "import re\n",
    "import nltk\n",
    "from nltk import sent_tokenize\n",
    "nltk.download('punkt')\n",
    "import warnings\n",
    "import ast\n",
    "warnings.filterwarnings(action='ignore')\n",
    "import json \n",
    "from requests import get\n",
    "import datetime\n",
    "from datetime import date\n",
    "from tqdm import tqdm\n",
    "import pickle\n",
    "import boto3\n",
    "from scrape_utils.utils import MongoDB_Train_Data, get_all_deets, create_item\n",
    "\n",
    "__TableName__ = 'upsc_training_data'\n",
    "client  = boto3.client('dynamodb',region_name = 'ap-south-1')\n",
    "DB  = boto3.resource('dynamodb',region_name = 'ap-south-1')\n",
    "table = DB.Table(__TableName__)\n",
    "with open('data/article_links.pkl', 'rb') as handle:\n",
    "    article_links = pickle.load(handle)\n",
    "\n",
    "failed_articles = []\n",
    "for i in tqdm(range(len(article_links))):\n",
    "    try: \n",
    "        artcl_link, date, heading, art_text, art_types, key_points_isin, summary, tags = get_all_deets(article_links[i])\n",
    "        item = create_item(i,artcl_link, date, heading, art_text, art_types, key_points_isin, summary, tags)\n",
    "        #response = table.put_item(Item  = item)\n",
    "    except:\n",
    "        failed_articles.append(article_links[i])\n",
    "\n",
    "with open('data/failed_articles.pkl', 'wb') as f:\n",
    "    pickle.dump(failed_articles, f)"
   ]
  },
  {
   "cell_type": "code",
   "execution_count": 7,
   "metadata": {},
   "outputs": [],
   "source": [
    "__TableName__ = 'upsc_training_data'\n",
    "client  = boto3.client('dynamodb',region_name = 'ap-south-1')\n",
    "DB  = boto3.resource('dynamodb',region_name = 'ap-south-1')\n",
    "table = DB.Table(__TableName__)\n"
   ]
  },
  {
   "cell_type": "code",
   "execution_count": 12,
   "metadata": {},
   "outputs": [
    {
     "data": {
      "text/plain": [
       "{'Item': {'date': 'Published: January 8, 2013',\n",
       "  'summary': '',\n",
       "  'article_text': ['The Haryana Government will implement a new initiative known as ‘Kanyadan’ from April 1, 2013 under which an incentive of Rs 11,000 per girl will be given to each of the beneficiary brides during the mass marriage ceremony to be organized by Red Cross Societies or any registered NGO in the state.\\xa0 This is meant to promote the concept of mass marriages and curb the social evils like dowry system and would help families to reduce the marriage expenditure.',\n",
       "   'Who are eligible?',\n",
       "   'Beneficiary should be Haryana domicile and must be 18 years of age on the date of her marriage. The mass marriage should have least 11 marriages at a time, by Red Cross Societies or any registered NGO in the state. This incentive would be given irrespective of the caste, race, creed, religion or income of the beneficiaries but they would have to produce a certificate regarding proof of girl’s age such as birth certificate or that of matric.'],\n",
       "  'heading': 'Haryana govt to implement new ‘Kanyadan’ scheme',\n",
       "  'link': 'https://www.gktoday.in/topic/haryana-govt-to-implement-new-kanyadan-scheme/',\n",
       "  'article_types': ['p', 'p', 'p'],\n",
       "  'summary_bool': Decimal('0'),\n",
       "  'tags': ['Current Affairs 2013',\n",
       "   'Haryana',\n",
       "   'January 2013',\n",
       "   'Socio-Economic'],\n",
       "  'TrainId': Decimal('187')},\n",
       " 'ResponseMetadata': {'RequestId': 'M067825TUIQN9C7DLHTBLGIVUFVV4KQNSO5AEMVJF66Q9ASUAAJG',\n",
       "  'HTTPStatusCode': 200,\n",
       "  'HTTPHeaders': {'server': 'Server',\n",
       "   'date': 'Thu, 17 Nov 2022 10:50:30 GMT',\n",
       "   'content-type': 'application/x-amz-json-1.0',\n",
       "   'content-length': '1412',\n",
       "   'connection': 'keep-alive',\n",
       "   'x-amzn-requestid': 'M067825TUIQN9C7DLHTBLGIVUFVV4KQNSO5AEMVJF66Q9ASUAAJG',\n",
       "   'x-amz-crc32': '1424343154'},\n",
       "  'RetryAttempts': 0}}"
      ]
     },
     "execution_count": 12,
     "metadata": {},
     "output_type": "execute_result"
    }
   ],
   "source": [
    "table.get_item(Key={'TrainId':187})"
   ]
  },
  {
   "cell_type": "code",
   "execution_count": null,
   "metadata": {},
   "outputs": [],
   "source": [
    "[{\"S\":\"The Haryana Government will implement a new initiative known as ‘Kanyadan’ from April 1, 2013 under which an incentive of Rs 11,000 per girl will be given to each of the beneficiary brides during the mass marriage ceremony to be organized by Red Cross Societies or any registered NGO in the state.  This is meant to promote the concept of mass marriages and curb the social evils like dowry system and would help families to reduce the marriage expenditure.\"},{\"S\":\"Who are eligible?\"},{\"S\":\"Beneficiary should be Haryana domicile and must be 18 years of age on the date of her marriage. The mass marriage should have least 11 marriages at a time, by Red Cross Societies or any registered NGO in the state. This incentive would be given irrespective of the caste, race, creed, religion or income of the beneficiaries but they would have to produce a certificate regarding proof of girl’s age such as birth certificate or that of matric.\"}]"
   ]
  }
 ],
 "metadata": {
  "kernelspec": {
   "display_name": "Python 3.10.6 ('scrapeenv': venv)",
   "language": "python",
   "name": "python3"
  },
  "language_info": {
   "codemirror_mode": {
    "name": "ipython",
    "version": 3
   },
   "file_extension": ".py",
   "mimetype": "text/x-python",
   "name": "python",
   "nbconvert_exporter": "python",
   "pygments_lexer": "ipython3",
   "version": "3.10.6"
  },
  "orig_nbformat": 4,
  "vscode": {
   "interpreter": {
    "hash": "050b2f7fdc8ceafbbec2485c71bd423c036445cf9e9b53c6874cc158d5607b0d"
   }
  }
 },
 "nbformat": 4,
 "nbformat_minor": 2
}
