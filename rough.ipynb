{
 "cells": [
  {
   "cell_type": "code",
   "execution_count": 7,
   "metadata": {},
   "outputs": [
    {
     "name": "stderr",
     "output_type": "stream",
     "text": [
      "[nltk_data] Downloading package punkt to /home/ubuntu/nltk_data...\n",
      "[nltk_data]   Package punkt is already up-to-date!\n"
     ]
    }
   ],
   "source": [
    "from bs4 import BeautifulSoup\n",
    "import requests\n",
    "import pandas as pd\n",
    "import numpy as np\n",
    "import re\n",
    "import nltk\n",
    "from nltk import sent_tokenize\n",
    "nltk.download('punkt')\n",
    "import warnings\n",
    "import ast\n",
    "warnings.filterwarnings(action='ignore')\n",
    "import json \n",
    "from requests import get\n",
    "import datetime\n",
    "from datetime import date\n",
    "from tqdm import tqdm\n",
    "import pickle\n",
    "import boto3\n",
    "from collections import Counter"
   ]
  },
  {
   "cell_type": "code",
   "execution_count": 8,
   "metadata": {},
   "outputs": [
    {
     "name": "stderr",
     "output_type": "stream",
     "text": [
      "100%|██████████| 27000/27000 [00:00<00:00, 33270.68it/s]\n"
     ]
    }
   ],
   "source": [
    "df =pd.read_csv('label_keys.csv')\n",
    "tags_order = [i[0] for i in Counter([i.lower() for i in df['label'].dropna()]).most_common()][::-1]\n",
    "del df['count']\n",
    "tag_map = df.set_index('keys_').to_dict('index')\n",
    "total_tags = list(tag_map.keys())\n",
    "\n",
    "df_data = pd.read_pickle('UIdata/data_tagging.pkl')\n",
    "tags_sent = df_data['tags'].values[120]\n",
    "def get_labels(tags_sent):\n",
    "    labels = []\n",
    "    for i in tags_sent:\n",
    "        tag = i.lower()\n",
    "        if tag in total_tags:\n",
    "            labels.append(tag_map[tag]['label'])\n",
    "    if len(labels)> 0:\n",
    "        return([tags_order[j] for j in [tags_order.index(i) for i in labels]][0])\n",
    "    else:\n",
    "        return('None')\n",
    "labels_class = []\n",
    "for i in tqdm(df_data['tags'].values):\n",
    "    labels_class.append(get_labels(i))\n",
    "\n",
    "df_data['label'] = labels_class"
   ]
  },
  {
   "cell_type": "code",
   "execution_count": 10,
   "metadata": {},
   "outputs": [
    {
     "data": {
      "text/html": [
       "<div>\n",
       "<style scoped>\n",
       "    .dataframe tbody tr th:only-of-type {\n",
       "        vertical-align: middle;\n",
       "    }\n",
       "\n",
       "    .dataframe tbody tr th {\n",
       "        vertical-align: top;\n",
       "    }\n",
       "\n",
       "    .dataframe thead th {\n",
       "        text-align: right;\n",
       "    }\n",
       "</style>\n",
       "<table border=\"1\" class=\"dataframe\">\n",
       "  <thead>\n",
       "    <tr style=\"text-align: right;\">\n",
       "      <th></th>\n",
       "      <th>headings</th>\n",
       "      <th>tags</th>\n",
       "      <th>TrainId</th>\n",
       "      <th>label</th>\n",
       "    </tr>\n",
       "  </thead>\n",
       "  <tbody>\n",
       "    <tr>\n",
       "      <th>0</th>\n",
       "      <td>JJB rejects bone ossification test plea</td>\n",
       "      <td>[Current Affairs 2013, February 2013, IBPS, Ja...</td>\n",
       "      <td>0</td>\n",
       "      <td>polity</td>\n",
       "    </tr>\n",
       "    <tr>\n",
       "      <th>1</th>\n",
       "      <td>India's first ‘ebiz’ government-to-business po...</td>\n",
       "      <td>[Current Affairs 2013, IBPS, January 2013]</td>\n",
       "      <td>1</td>\n",
       "      <td>None</td>\n",
       "    </tr>\n",
       "    <tr>\n",
       "      <th>2</th>\n",
       "      <td>At 105, Ustad Abdul Rashid Khan is the oldest ...</td>\n",
       "      <td>[Current Affairs 2013, IBPS, January 2013]</td>\n",
       "      <td>2</td>\n",
       "      <td>None</td>\n",
       "    </tr>\n",
       "    <tr>\n",
       "      <th>3</th>\n",
       "      <td>Singer S. Janaki declines Padma Bhushan</td>\n",
       "      <td>[Current Affairs 2013, Entertainment, January ...</td>\n",
       "      <td>3</td>\n",
       "      <td>None</td>\n",
       "    </tr>\n",
       "    <tr>\n",
       "      <th>4</th>\n",
       "      <td>India, Bangladesh ink extradition and visa pacts</td>\n",
       "      <td>[Current Affairs 2013, India-Bangladesh, India...</td>\n",
       "      <td>4</td>\n",
       "      <td>international relations</td>\n",
       "    </tr>\n",
       "    <tr>\n",
       "      <th>...</th>\n",
       "      <td>...</td>\n",
       "      <td>...</td>\n",
       "      <td>...</td>\n",
       "      <td>...</td>\n",
       "    </tr>\n",
       "    <tr>\n",
       "      <th>26995</th>\n",
       "      <td>Sample Registration System (SRS) Statistical R...</td>\n",
       "      <td>[Infant mortality, Infant Mortality Rate, Neon...</td>\n",
       "      <td>26995</td>\n",
       "      <td>environment</td>\n",
       "    </tr>\n",
       "    <tr>\n",
       "      <th>26996</th>\n",
       "      <td>Current Affairs- Today’s Headlines: September ...</td>\n",
       "      <td>[2022, Current Affairs, Current Affairs: News ...</td>\n",
       "      <td>26996</td>\n",
       "      <td>None</td>\n",
       "    </tr>\n",
       "    <tr>\n",
       "      <th>26997</th>\n",
       "      <td>Breakthrough Prizes 2023- Winners</td>\n",
       "      <td>[Breakthrough Prize, Breakthrough Prize in Fun...</td>\n",
       "      <td>26997</td>\n",
       "      <td>None</td>\n",
       "    </tr>\n",
       "    <tr>\n",
       "      <th>26998</th>\n",
       "      <td>Committee for pharma marketing practices</td>\n",
       "      <td>[CBDT, Department of Pharmaceuticals, Pharmace...</td>\n",
       "      <td>26998</td>\n",
       "      <td>economy</td>\n",
       "    </tr>\n",
       "    <tr>\n",
       "      <th>26999</th>\n",
       "      <td>Defence ministry contract for BrahMos missiles</td>\n",
       "      <td>[Brahmos, BrahMos Aerospace, BrahMos Aerospace...</td>\n",
       "      <td>26999</td>\n",
       "      <td>science&amp;technology</td>\n",
       "    </tr>\n",
       "  </tbody>\n",
       "</table>\n",
       "<p>27000 rows × 4 columns</p>\n",
       "</div>"
      ],
      "text/plain": [
       "                                                headings  \\\n",
       "0                JJB rejects bone ossification test plea   \n",
       "1      India's first ‘ebiz’ government-to-business po...   \n",
       "2      At 105, Ustad Abdul Rashid Khan is the oldest ...   \n",
       "3                Singer S. Janaki declines Padma Bhushan   \n",
       "4       India, Bangladesh ink extradition and visa pacts   \n",
       "...                                                  ...   \n",
       "26995  Sample Registration System (SRS) Statistical R...   \n",
       "26996  Current Affairs- Today’s Headlines: September ...   \n",
       "26997                  Breakthrough Prizes 2023- Winners   \n",
       "26998           Committee for pharma marketing practices   \n",
       "26999     Defence ministry contract for BrahMos missiles   \n",
       "\n",
       "                                                    tags  TrainId  \\\n",
       "0      [Current Affairs 2013, February 2013, IBPS, Ja...        0   \n",
       "1             [Current Affairs 2013, IBPS, January 2013]        1   \n",
       "2             [Current Affairs 2013, IBPS, January 2013]        2   \n",
       "3      [Current Affairs 2013, Entertainment, January ...        3   \n",
       "4      [Current Affairs 2013, India-Bangladesh, India...        4   \n",
       "...                                                  ...      ...   \n",
       "26995  [Infant mortality, Infant Mortality Rate, Neon...    26995   \n",
       "26996  [2022, Current Affairs, Current Affairs: News ...    26996   \n",
       "26997  [Breakthrough Prize, Breakthrough Prize in Fun...    26997   \n",
       "26998  [CBDT, Department of Pharmaceuticals, Pharmace...    26998   \n",
       "26999  [Brahmos, BrahMos Aerospace, BrahMos Aerospace...    26999   \n",
       "\n",
       "                         label  \n",
       "0                       polity  \n",
       "1                         None  \n",
       "2                         None  \n",
       "3                         None  \n",
       "4      international relations  \n",
       "...                        ...  \n",
       "26995              environment  \n",
       "26996                     None  \n",
       "26997                     None  \n",
       "26998                  economy  \n",
       "26999       science&technology  \n",
       "\n",
       "[27000 rows x 4 columns]"
      ]
     },
     "execution_count": 10,
     "metadata": {},
     "output_type": "execute_result"
    }
   ],
   "source": [
    "df_data"
   ]
  },
  {
   "cell_type": "code",
   "execution_count": 11,
   "metadata": {},
   "outputs": [
    {
     "data": {
      "text/plain": [
       "0                         polity\n",
       "1                           None\n",
       "2                           None\n",
       "3                           None\n",
       "4        international relations\n",
       "                  ...           \n",
       "26995                environment\n",
       "26996                       None\n",
       "26997                       None\n",
       "26998                    economy\n",
       "26999         science&technology\n",
       "Name: label, Length: 27000, dtype: object"
      ]
     },
     "execution_count": 11,
     "metadata": {},
     "output_type": "execute_result"
    }
   ],
   "source": [
    "df_data.label"
   ]
  },
  {
   "cell_type": "code",
   "execution_count": 178,
   "metadata": {},
   "outputs": [
    {
     "ename": "ModuleNotFoundError",
     "evalue": "No module named 'sentence_transformers'",
     "output_type": "error",
     "traceback": [
      "\u001b[0;31m---------------------------------------------------------------------------\u001b[0m",
      "\u001b[0;31mModuleNotFoundError\u001b[0m                       Traceback (most recent call last)",
      "Cell \u001b[0;32mIn [178], line 1\u001b[0m\n\u001b[0;32m----> 1\u001b[0m \u001b[38;5;28;01mfrom\u001b[39;00m \u001b[38;5;21;01msentence_transformers\u001b[39;00m \u001b[38;5;28;01mimport\u001b[39;00m SentenceTransformer\n\u001b[1;32m      2\u001b[0m \u001b[38;5;28;01mimport\u001b[39;00m \u001b[38;5;21;01mpandas\u001b[39;00m \u001b[38;5;28;01mas\u001b[39;00m \u001b[38;5;21;01mpd\u001b[39;00m \n\u001b[1;32m      3\u001b[0m \u001b[38;5;28;01mfrom\u001b[39;00m \u001b[38;5;21;01mtqdm\u001b[39;00m \u001b[38;5;28;01mimport\u001b[39;00m tqdm\n",
      "\u001b[0;31mModuleNotFoundError\u001b[0m: No module named 'sentence_transformers'"
     ]
    }
   ],
   "source": [
    "from sentence_transformers import SentenceTransformer\n",
    "import pandas as pd \n",
    "from tqdm import tqdm\n",
    "from sklearn.metrics.pairwise import cosine_similarity\n",
    "import numpy as np\n",
    "\n",
    "labels = ['Environment','History','Culture','Geography','International Relations',\n",
    "'Polity','Governance','Health','Society','Economy','Science&Technology','Defence','Agriculture','sports']\n",
    "labels = [i.lower() for i in labels]\n",
    "model = SentenceTransformer('bert-base-nli-mean-tokens')\n",
    "embeddings_tags = model.encode(labels)\n",
    "most_relevant = []\n",
    "next_relevant = []\n",
    "for i in tqdm(range(len(df))):\n",
    "    key__ = df_data.headings.values[i]\n",
    "    embeddings_key = model.encode(key__)\n",
    "    probs = cosine_similarity([embeddings_key],embeddings_tags)\n",
    "    label_index = np.argmax(probs)\n",
    "    most_relevant.append(labels[label_index])\n"
   ]
  },
  {
   "cell_type": "code",
   "execution_count": 165,
   "metadata": {},
   "outputs": [
    {
     "data": {
      "text/plain": [
       "['polity',\n",
       " 'None',\n",
       " 'None',\n",
       " 'None',\n",
       " 'international relations',\n",
       " 'sports',\n",
       " 'international relations',\n",
       " 'economy',\n",
       " 'economy',\n",
       " 'None']"
      ]
     },
     "execution_count": 165,
     "metadata": {},
     "output_type": "execute_result"
    }
   ],
   "source": []
  },
  {
   "cell_type": "code",
   "execution_count": 167,
   "metadata": {},
   "outputs": [
    {
     "data": {
      "text/html": [
       "<div>\n",
       "<style scoped>\n",
       "    .dataframe tbody tr th:only-of-type {\n",
       "        vertical-align: middle;\n",
       "    }\n",
       "\n",
       "    .dataframe tbody tr th {\n",
       "        vertical-align: top;\n",
       "    }\n",
       "\n",
       "    .dataframe thead th {\n",
       "        text-align: right;\n",
       "    }\n",
       "</style>\n",
       "<table border=\"1\" class=\"dataframe\">\n",
       "  <thead>\n",
       "    <tr style=\"text-align: right;\">\n",
       "      <th></th>\n",
       "      <th>headings</th>\n",
       "      <th>tags</th>\n",
       "      <th>TrainId</th>\n",
       "    </tr>\n",
       "  </thead>\n",
       "  <tbody>\n",
       "    <tr>\n",
       "      <th>0</th>\n",
       "      <td>JJB rejects bone ossification test plea</td>\n",
       "      <td>[Current Affairs 2013, February 2013, IBPS, Ja...</td>\n",
       "      <td>0</td>\n",
       "    </tr>\n",
       "    <tr>\n",
       "      <th>1</th>\n",
       "      <td>India's first ‘ebiz’ government-to-business po...</td>\n",
       "      <td>[Current Affairs 2013, IBPS, January 2013]</td>\n",
       "      <td>1</td>\n",
       "    </tr>\n",
       "    <tr>\n",
       "      <th>2</th>\n",
       "      <td>At 105, Ustad Abdul Rashid Khan is the oldest ...</td>\n",
       "      <td>[Current Affairs 2013, IBPS, January 2013]</td>\n",
       "      <td>2</td>\n",
       "    </tr>\n",
       "    <tr>\n",
       "      <th>3</th>\n",
       "      <td>Singer S. Janaki declines Padma Bhushan</td>\n",
       "      <td>[Current Affairs 2013, Entertainment, January ...</td>\n",
       "      <td>3</td>\n",
       "    </tr>\n",
       "    <tr>\n",
       "      <th>4</th>\n",
       "      <td>India, Bangladesh ink extradition and visa pacts</td>\n",
       "      <td>[Current Affairs 2013, India-Bangladesh, India...</td>\n",
       "      <td>4</td>\n",
       "    </tr>\n",
       "    <tr>\n",
       "      <th>5</th>\n",
       "      <td>Ranji Trophy: Mumbai claim their 40th title, d...</td>\n",
       "      <td>[Cricket, Current Affairs 2013, IBPS, January ...</td>\n",
       "      <td>5</td>\n",
       "    </tr>\n",
       "    <tr>\n",
       "      <th>6</th>\n",
       "      <td>Iran claims to have sent monkey into space</td>\n",
       "      <td>[Current Affairs 2013, Iran, January 2013]</td>\n",
       "      <td>6</td>\n",
       "    </tr>\n",
       "    <tr>\n",
       "      <th>7</th>\n",
       "      <td>Rising CAD, a major concern: RBI</td>\n",
       "      <td>[Current Affairs - 2017, Current Affairs 2013,...</td>\n",
       "      <td>7</td>\n",
       "    </tr>\n",
       "    <tr>\n",
       "      <th>8</th>\n",
       "      <td>RBI cuts repo rate and CRR, slashes growth for...</td>\n",
       "      <td>[Current Affairs 2013, January 2013, RBI]</td>\n",
       "      <td>8</td>\n",
       "    </tr>\n",
       "    <tr>\n",
       "      <th>9</th>\n",
       "      <td>World’s oldest marathoner to retire</td>\n",
       "      <td>[Current Affairs 2013, January 2013]</td>\n",
       "      <td>9</td>\n",
       "    </tr>\n",
       "  </tbody>\n",
       "</table>\n",
       "</div>"
      ],
      "text/plain": [
       "                                            headings  \\\n",
       "0            JJB rejects bone ossification test plea   \n",
       "1  India's first ‘ebiz’ government-to-business po...   \n",
       "2  At 105, Ustad Abdul Rashid Khan is the oldest ...   \n",
       "3            Singer S. Janaki declines Padma Bhushan   \n",
       "4   India, Bangladesh ink extradition and visa pacts   \n",
       "5  Ranji Trophy: Mumbai claim their 40th title, d...   \n",
       "6         Iran claims to have sent monkey into space   \n",
       "7                   Rising CAD, a major concern: RBI   \n",
       "8  RBI cuts repo rate and CRR, slashes growth for...   \n",
       "9                World’s oldest marathoner to retire   \n",
       "\n",
       "                                                tags  TrainId  \n",
       "0  [Current Affairs 2013, February 2013, IBPS, Ja...        0  \n",
       "1         [Current Affairs 2013, IBPS, January 2013]        1  \n",
       "2         [Current Affairs 2013, IBPS, January 2013]        2  \n",
       "3  [Current Affairs 2013, Entertainment, January ...        3  \n",
       "4  [Current Affairs 2013, India-Bangladesh, India...        4  \n",
       "5  [Cricket, Current Affairs 2013, IBPS, January ...        5  \n",
       "6         [Current Affairs 2013, Iran, January 2013]        6  \n",
       "7  [Current Affairs - 2017, Current Affairs 2013,...        7  \n",
       "8          [Current Affairs 2013, January 2013, RBI]        8  \n",
       "9               [Current Affairs 2013, January 2013]        9  "
      ]
     },
     "execution_count": 167,
     "metadata": {},
     "output_type": "execute_result"
    }
   ],
   "source": []
  },
  {
   "cell_type": "code",
   "execution_count": null,
   "metadata": {},
   "outputs": [],
   "source": []
  },
  {
   "cell_type": "code",
   "execution_count": 64,
   "metadata": {},
   "outputs": [],
   "source": [
    "df =pd.read_csv('data/Tags.csv')\n",
    "tags_order = [i[0] for i in Counter([i.lower() for i in df['Label'].dropna()]).most_common()][::-1]\n",
    "del df['count']\n",
    "tag_map = df.set_index('tags').to_dict('index')\n",
    "df = pd.read_pickle('UIdata/data_tagging.pkl')"
   ]
  },
  {
   "cell_type": "code",
   "execution_count": null,
   "metadata": {},
   "outputs": [],
   "source": []
  },
  {
   "cell_type": "code",
   "execution_count": 68,
   "metadata": {},
   "outputs": [],
   "source": [
    "for i in df.tags:\n",
    "    if i == 'Iidian heritage sites':\n",
    "        print(i)"
   ]
  },
  {
   "cell_type": "code",
   "execution_count": 10,
   "metadata": {},
   "outputs": [
    {
     "data": {
      "text/plain": [
       "['Current Affairs 2013',\n",
       " 'February 2013',\n",
       " 'IBPS',\n",
       " 'January 2013',\n",
       " 'Supreme court']"
      ]
     },
     "execution_count": 10,
     "metadata": {},
     "output_type": "execute_result"
    }
   ],
   "source": [
    "def get_valid_labels(tag_list):\n",
    "    df['tags'][0]"
   ]
  },
  {
   "cell_type": "code",
   "execution_count": 65,
   "metadata": {},
   "outputs": [],
   "source": [
    "tag_list = df['tags'].values[-100]"
   ]
  },
  {
   "cell_type": "code",
   "execution_count": 66,
   "metadata": {},
   "outputs": [
    {
     "data": {
      "text/plain": [
       "['Archaeological Survey of India (ASI)',\n",
       " 'heritage sites',\n",
       " 'Indian heritage Sites',\n",
       " 'Museum Grant Scheme',\n",
       " 'Sites Identified for ‘National importance’ tag',\n",
       " 'Sites of National Importance']"
      ]
     },
     "execution_count": 66,
     "metadata": {},
     "output_type": "execute_result"
    }
   ],
   "source": [
    "tag_list"
   ]
  },
  {
   "cell_type": "code",
   "execution_count": null,
   "metadata": {},
   "outputs": [],
   "source": []
  },
  {
   "cell_type": "code",
   "execution_count": 36,
   "metadata": {},
   "outputs": [],
   "source": [
    "labels_  = []\n",
    "for i in tag_list:\n",
    "    i = i.lower()\n",
    "    if i in tag_map.keys():\n",
    "        labels_.append(tag_map[i])\n",
    "        "
   ]
  },
  {
   "cell_type": "code",
   "execution_count": 7,
   "metadata": {},
   "outputs": [],
   "source": [
    "df = pd.read_pickle('UIdata/data_tagging.pkl')"
   ]
  },
  {
   "cell_type": "code",
   "execution_count": 10,
   "metadata": {},
   "outputs": [],
   "source": [
    "__TableName__ = 'upsc_training_data'\n",
    "client  = boto3.client('dynamodb',region_name = 'ap-south-1')\n",
    "DB  = boto3.resource('dynamodb',region_name = 'ap-south-1')\n",
    "table = DB.Table(__TableName__)"
   ]
  },
  {
   "cell_type": "code",
   "execution_count": 52,
   "metadata": {},
   "outputs": [
    {
     "name": "stderr",
     "output_type": "stream",
     "text": [
      "  1%|          | 286/27000 [00:14<26:55, 16.53it/s] "
     ]
    }
   ],
   "source": [
    "tags = []\n",
    "headings = []\n",
    "c = 0\n",
    "for i in tqdm(range(27000)):\n",
    "    try:\n",
    "        item = table.get_item(Key={'TrainId':i})\n",
    "        tags.append(item['Item']['tags'])\n",
    "        heading.append(item['Item']['heading'])\n",
    "    except:\n",
    "        c = c+1\n",
    "\n",
    "with open('data/tags.pkl', 'wb') as f:\n",
    "    pickle.dump(tags, f)\n",
    "with open('data/headings.pkl', 'wb') as f:\n",
    "    pickle.dump(headings, f)"
   ]
  },
  {
   "cell_type": "code",
   "execution_count": 65,
   "metadata": {},
   "outputs": [],
   "source": [
    "import pickle\n",
    "import pandas as pd\n",
    "with open('data/tags.pkl', 'rb') as handle:\n",
    "    tags = pickle.load(handle)\n",
    "with open('data/headings.pkl', 'rb') as handle:\n",
    "    headings = pickle.load(handle)\n",
    "df = pd.DataFrame()\n",
    "df['headings'] = headings\n",
    "df['tags'] = tags\n",
    "df['TrainId'] = np.arange(len(df))\n",
    "df.to_pickle('UIdata/data_tagging.pkl')"
   ]
  },
  {
   "cell_type": "code",
   "execution_count": 4,
   "metadata": {},
   "outputs": [],
   "source": [
    "df = pd.read_pickle('UIdata/data_tagging.pkl')"
   ]
  },
  {
   "cell_type": "code",
   "execution_count": 5,
   "metadata": {},
   "outputs": [
    {
     "data": {
      "text/html": [
       "<div>\n",
       "<style scoped>\n",
       "    .dataframe tbody tr th:only-of-type {\n",
       "        vertical-align: middle;\n",
       "    }\n",
       "\n",
       "    .dataframe tbody tr th {\n",
       "        vertical-align: top;\n",
       "    }\n",
       "\n",
       "    .dataframe thead th {\n",
       "        text-align: right;\n",
       "    }\n",
       "</style>\n",
       "<table border=\"1\" class=\"dataframe\">\n",
       "  <thead>\n",
       "    <tr style=\"text-align: right;\">\n",
       "      <th></th>\n",
       "      <th>headings</th>\n",
       "      <th>tags</th>\n",
       "      <th>TrainId</th>\n",
       "    </tr>\n",
       "  </thead>\n",
       "  <tbody>\n",
       "    <tr>\n",
       "      <th>0</th>\n",
       "      <td>JJB rejects bone ossification test plea</td>\n",
       "      <td>[Current Affairs 2013, February 2013, IBPS, Ja...</td>\n",
       "      <td>0</td>\n",
       "    </tr>\n",
       "    <tr>\n",
       "      <th>1</th>\n",
       "      <td>India's first ‘ebiz’ government-to-business po...</td>\n",
       "      <td>[Current Affairs 2013, IBPS, January 2013]</td>\n",
       "      <td>1</td>\n",
       "    </tr>\n",
       "    <tr>\n",
       "      <th>2</th>\n",
       "      <td>At 105, Ustad Abdul Rashid Khan is the oldest ...</td>\n",
       "      <td>[Current Affairs 2013, IBPS, January 2013]</td>\n",
       "      <td>2</td>\n",
       "    </tr>\n",
       "    <tr>\n",
       "      <th>3</th>\n",
       "      <td>Singer S. Janaki declines Padma Bhushan</td>\n",
       "      <td>[Current Affairs 2013, Entertainment, January ...</td>\n",
       "      <td>3</td>\n",
       "    </tr>\n",
       "    <tr>\n",
       "      <th>4</th>\n",
       "      <td>India, Bangladesh ink extradition and visa pacts</td>\n",
       "      <td>[Current Affairs 2013, India-Bangladesh, India...</td>\n",
       "      <td>4</td>\n",
       "    </tr>\n",
       "    <tr>\n",
       "      <th>...</th>\n",
       "      <td>...</td>\n",
       "      <td>...</td>\n",
       "      <td>...</td>\n",
       "    </tr>\n",
       "    <tr>\n",
       "      <th>26995</th>\n",
       "      <td>Sample Registration System (SRS) Statistical R...</td>\n",
       "      <td>[Infant mortality, Infant Mortality Rate, Neon...</td>\n",
       "      <td>26995</td>\n",
       "    </tr>\n",
       "    <tr>\n",
       "      <th>26996</th>\n",
       "      <td>Current Affairs- Today’s Headlines: September ...</td>\n",
       "      <td>[2022, Current Affairs, Current Affairs: News ...</td>\n",
       "      <td>26996</td>\n",
       "    </tr>\n",
       "    <tr>\n",
       "      <th>26997</th>\n",
       "      <td>Breakthrough Prizes 2023- Winners</td>\n",
       "      <td>[Breakthrough Prize, Breakthrough Prize in Fun...</td>\n",
       "      <td>26997</td>\n",
       "    </tr>\n",
       "    <tr>\n",
       "      <th>26998</th>\n",
       "      <td>Committee for pharma marketing practices</td>\n",
       "      <td>[CBDT, Department of Pharmaceuticals, Pharmace...</td>\n",
       "      <td>26998</td>\n",
       "    </tr>\n",
       "    <tr>\n",
       "      <th>26999</th>\n",
       "      <td>Defence ministry contract for BrahMos missiles</td>\n",
       "      <td>[Brahmos, BrahMos Aerospace, BrahMos Aerospace...</td>\n",
       "      <td>26999</td>\n",
       "    </tr>\n",
       "  </tbody>\n",
       "</table>\n",
       "<p>27000 rows × 3 columns</p>\n",
       "</div>"
      ],
      "text/plain": [
       "                                                headings  \\\n",
       "0                JJB rejects bone ossification test plea   \n",
       "1      India's first ‘ebiz’ government-to-business po...   \n",
       "2      At 105, Ustad Abdul Rashid Khan is the oldest ...   \n",
       "3                Singer S. Janaki declines Padma Bhushan   \n",
       "4       India, Bangladesh ink extradition and visa pacts   \n",
       "...                                                  ...   \n",
       "26995  Sample Registration System (SRS) Statistical R...   \n",
       "26996  Current Affairs- Today’s Headlines: September ...   \n",
       "26997                  Breakthrough Prizes 2023- Winners   \n",
       "26998           Committee for pharma marketing practices   \n",
       "26999     Defence ministry contract for BrahMos missiles   \n",
       "\n",
       "                                                    tags  TrainId  \n",
       "0      [Current Affairs 2013, February 2013, IBPS, Ja...        0  \n",
       "1             [Current Affairs 2013, IBPS, January 2013]        1  \n",
       "2             [Current Affairs 2013, IBPS, January 2013]        2  \n",
       "3      [Current Affairs 2013, Entertainment, January ...        3  \n",
       "4      [Current Affairs 2013, India-Bangladesh, India...        4  \n",
       "...                                                  ...      ...  \n",
       "26995  [Infant mortality, Infant Mortality Rate, Neon...    26995  \n",
       "26996  [2022, Current Affairs, Current Affairs: News ...    26996  \n",
       "26997  [Breakthrough Prize, Breakthrough Prize in Fun...    26997  \n",
       "26998  [CBDT, Department of Pharmaceuticals, Pharmace...    26998  \n",
       "26999  [Brahmos, BrahMos Aerospace, BrahMos Aerospace...    26999  \n",
       "\n",
       "[27000 rows x 3 columns]"
      ]
     },
     "execution_count": 5,
     "metadata": {},
     "output_type": "execute_result"
    }
   ],
   "source": [
    "df"
   ]
  },
  {
   "cell_type": "code",
   "execution_count": null,
   "metadata": {},
   "outputs": [],
   "source": []
  },
  {
   "cell_type": "code",
   "execution_count": 61,
   "metadata": {},
   "outputs": [],
   "source": [
    "labels = ['Environment','History','Culture','Geography','International Relations/Issues',\n",
    "'Polity','Governance','Health','Society','Economy','Science&Technology','Defence','Agriculture']"
   ]
  },
  {
   "cell_type": "code",
   "execution_count": 1,
   "metadata": {},
   "outputs": [],
   "source": [
    "def get_response_soup(url):\n",
    "    response = get(url,verify=False, timeout=30)\n",
    "    cleaned_response = response.text.replace('\\x00', '')\n",
    "    soup = BeautifulSoup(cleaned_response)\n",
    "    return soup"
   ]
  },
  {
   "cell_type": "code",
   "execution_count": 9,
   "metadata": {},
   "outputs": [
    {
     "name": "stderr",
     "output_type": "stream",
     "text": [
      "100%|██████████| 14/14 [00:01<00:00,  9.87it/s]\n"
     ]
    }
   ],
   "source": [
    "import datetime\n",
    "import pandas as pd\n",
    "from requests import get\n",
    "import datetime\n",
    "from datetime import date\n",
    "start = datetime.datetime.strptime(\"02-01-2018\", \"%d-%m-%Y\")\n",
    "end = datetime.datetime.strptime(\"15-01-2018\", \"%d-%m-%Y\")\n",
    "date_generated = pd.date_range(start, end)\n",
    "tags = []\n",
    "for i in tqdm(range(len(date_generated))):\n",
    "    date = str(date_generated[i]).split(' ')[0]\n",
    "    link = 'https://www.iasparliament.com/current-affairs/archives/'+date.replace('-','/')\n",
    "    soup = get_response_soup(link)\n",
    "    for i in soup.find_all(name = 'a',attrs = {'class':'label label-default label-default-cntrl tags'}):\n",
    "        tags.append(i.text) \n",
    "        \n",
    "\n",
    "\n",
    "from collections import Counter\n",
    "tags_ = [i for i in tags if '-' in i]\n",
    "dict_ = dict(Counter(tags_))\n",
    "df_tags = pd.DataFrame()\n",
    "df_tags['tags'] = tags_"
   ]
  },
  {
   "cell_type": "code",
   "execution_count": 12,
   "metadata": {},
   "outputs": [
    {
     "data": {
      "text/plain": [
       "'G.S II - Bilateral/International Relations'"
      ]
     },
     "execution_count": 12,
     "metadata": {},
     "output_type": "execute_result"
    }
   ],
   "source": [
    "i.text"
   ]
  },
  {
   "cell_type": "code",
   "execution_count": 13,
   "metadata": {},
   "outputs": [
    {
     "data": {
      "text/plain": [
       "'https://www.iasparliament.com/current-affairs/archives/2018/01/15'"
      ]
     },
     "execution_count": 13,
     "metadata": {},
     "output_type": "execute_result"
    }
   ],
   "source": [
    "link"
   ]
  },
  {
   "cell_type": "code",
   "execution_count": 121,
   "metadata": {},
   "outputs": [],
   "source": [
    "import pickle\n",
    "import pandas as pd\n",
    "import itertools\n",
    "from collections import Counter\n",
    "with open('data/tags.pkl', 'rb') as handle:\n",
    "    tags_list = pickle.load(handle)\n",
    "''' \n",
    "tags = []\n",
    "for i in tags_list:\n",
    "    tags = tags + i\n",
    "'''\n",
    "tags = list(itertools.chain.from_iterable(tags_list))\n",
    "months_str = ['january', 'february', 'march',\n",
    "        'april', 'may', 'june', 'july', 'august',\n",
    "        'september', 'october', 'november', 'december','current affairs','ibps']\n",
    "tags = [i.lower() for i in tags]\n",
    "for i in tags:\n",
    "    for j in months_str:\n",
    "        if j in i:\n",
    "            try: \n",
    "                tags.remove(i)\n",
    "            except:\n",
    "                a = 1\n",
    "dict_ = Counter(tags)\n",
    "df = pd.DataFrame()\n",
    "df['keys_'] = dict_.keys()\n",
    "df['count'] = [dict_[i] for i in dict_.keys()]\n",
    "df.to_csv('data/keys_upsc.csv')"
   ]
  },
  {
   "cell_type": "code",
   "execution_count": 124,
   "metadata": {},
   "outputs": [],
   "source": [
    "labels = ['Environment','History','Culture','Geography','International Relations',\n",
    "'Polity','Governance Polity','Health','Society','Economy','Science&Technology','Defence','Agriculture']\n",
    "labels = [i.lower() for i in labels]"
   ]
  },
  {
   "cell_type": "code",
   "execution_count": 125,
   "metadata": {},
   "outputs": [
    {
     "data": {
      "text/plain": [
       "['environment',\n",
       " 'history',\n",
       " 'culture',\n",
       " 'geography',\n",
       " 'international relations/issues',\n",
       " 'polity',\n",
       " 'governance polity',\n",
       " 'health',\n",
       " 'society',\n",
       " 'economy',\n",
       " 'science&technology',\n",
       " 'defence',\n",
       " 'agriculture']"
      ]
     },
     "execution_count": 125,
     "metadata": {},
     "output_type": "execute_result"
    }
   ],
   "source": [
    "labels"
   ]
  },
  {
   "cell_type": "code",
   "execution_count": null,
   "metadata": {},
   "outputs": [],
   "source": []
  }
 ],
 "metadata": {
  "kernelspec": {
   "display_name": "Python 3.10.6 ('scrapeenv': venv)",
   "language": "python",
   "name": "python3"
  },
  "language_info": {
   "codemirror_mode": {
    "name": "ipython",
    "version": 3
   },
   "file_extension": ".py",
   "mimetype": "text/x-python",
   "name": "python",
   "nbconvert_exporter": "python",
   "pygments_lexer": "ipython3",
   "version": "3.10.6"
  },
  "orig_nbformat": 4,
  "vscode": {
   "interpreter": {
    "hash": "050b2f7fdc8ceafbbec2485c71bd423c036445cf9e9b53c6874cc158d5607b0d"
   }
  }
 },
 "nbformat": 4,
 "nbformat_minor": 2
}
